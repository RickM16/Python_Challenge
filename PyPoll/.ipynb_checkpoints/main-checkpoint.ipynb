{
 "cells": [
  {
   "cell_type": "code",
   "execution_count": 1,
   "id": "da144991",
   "metadata": {},
   "outputs": [],
   "source": [
    "#importing libraries\n",
    "import os\n",
    "import numpy as np\n",
    "import pandas as pd"
   ]
  },
  {
   "cell_type": "code",
   "execution_count": 2,
   "id": "cc22da26",
   "metadata": {},
   "outputs": [],
   "source": [
    "#creating filepath object\n",
    "pwd = os.getcwd()\n",
    "filepath = pwd + \"/Resources/election_data.csv\""
   ]
  },
  {
   "cell_type": "code",
   "execution_count": 3,
   "id": "ff467bd1",
   "metadata": {},
   "outputs": [],
   "source": [
    "election_data = pd.read_csv(filepath)"
   ]
  },
  {
   "cell_type": "code",
   "execution_count": 4,
   "id": "f7ca6408",
   "metadata": {},
   "outputs": [
    {
     "data": {
      "text/html": [
       "<div>\n",
       "<style scoped>\n",
       "    .dataframe tbody tr th:only-of-type {\n",
       "        vertical-align: middle;\n",
       "    }\n",
       "\n",
       "    .dataframe tbody tr th {\n",
       "        vertical-align: top;\n",
       "    }\n",
       "\n",
       "    .dataframe thead th {\n",
       "        text-align: right;\n",
       "    }\n",
       "</style>\n",
       "<table border=\"1\" class=\"dataframe\">\n",
       "  <thead>\n",
       "    <tr style=\"text-align: right;\">\n",
       "      <th></th>\n",
       "      <th>Voter ID</th>\n",
       "      <th>County</th>\n",
       "      <th>Candidate</th>\n",
       "    </tr>\n",
       "  </thead>\n",
       "  <tbody>\n",
       "    <tr>\n",
       "      <th>0</th>\n",
       "      <td>12864552</td>\n",
       "      <td>Marsh</td>\n",
       "      <td>Khan</td>\n",
       "    </tr>\n",
       "    <tr>\n",
       "      <th>1</th>\n",
       "      <td>17444633</td>\n",
       "      <td>Marsh</td>\n",
       "      <td>Correy</td>\n",
       "    </tr>\n",
       "    <tr>\n",
       "      <th>2</th>\n",
       "      <td>19330107</td>\n",
       "      <td>Marsh</td>\n",
       "      <td>Khan</td>\n",
       "    </tr>\n",
       "    <tr>\n",
       "      <th>3</th>\n",
       "      <td>19865775</td>\n",
       "      <td>Queen</td>\n",
       "      <td>Khan</td>\n",
       "    </tr>\n",
       "    <tr>\n",
       "      <th>4</th>\n",
       "      <td>11927875</td>\n",
       "      <td>Marsh</td>\n",
       "      <td>Khan</td>\n",
       "    </tr>\n",
       "    <tr>\n",
       "      <th>...</th>\n",
       "      <td>...</td>\n",
       "      <td>...</td>\n",
       "      <td>...</td>\n",
       "    </tr>\n",
       "    <tr>\n",
       "      <th>3520996</th>\n",
       "      <td>18050509</td>\n",
       "      <td>Marsh</td>\n",
       "      <td>Khan</td>\n",
       "    </tr>\n",
       "    <tr>\n",
       "      <th>3520997</th>\n",
       "      <td>13060332</td>\n",
       "      <td>Marsh</td>\n",
       "      <td>Khan</td>\n",
       "    </tr>\n",
       "    <tr>\n",
       "      <th>3520998</th>\n",
       "      <td>16754708</td>\n",
       "      <td>Queen</td>\n",
       "      <td>Khan</td>\n",
       "    </tr>\n",
       "    <tr>\n",
       "      <th>3520999</th>\n",
       "      <td>12083146</td>\n",
       "      <td>Queen</td>\n",
       "      <td>Khan</td>\n",
       "    </tr>\n",
       "    <tr>\n",
       "      <th>3521000</th>\n",
       "      <td>14526187</td>\n",
       "      <td>Queen</td>\n",
       "      <td>O'Tooley</td>\n",
       "    </tr>\n",
       "  </tbody>\n",
       "</table>\n",
       "<p>3521001 rows × 3 columns</p>\n",
       "</div>"
      ],
      "text/plain": [
       "         Voter ID County Candidate\n",
       "0        12864552  Marsh      Khan\n",
       "1        17444633  Marsh    Correy\n",
       "2        19330107  Marsh      Khan\n",
       "3        19865775  Queen      Khan\n",
       "4        11927875  Marsh      Khan\n",
       "...           ...    ...       ...\n",
       "3520996  18050509  Marsh      Khan\n",
       "3520997  13060332  Marsh      Khan\n",
       "3520998  16754708  Queen      Khan\n",
       "3520999  12083146  Queen      Khan\n",
       "3521000  14526187  Queen  O'Tooley\n",
       "\n",
       "[3521001 rows x 3 columns]"
      ]
     },
     "execution_count": 4,
     "metadata": {},
     "output_type": "execute_result"
    }
   ],
   "source": [
    "election_data"
   ]
  },
  {
   "cell_type": "code",
   "execution_count": 5,
   "id": "d4b8e39a",
   "metadata": {},
   "outputs": [],
   "source": [
    "#calculating total number of votes cast\n",
    "total_votes = len(election_data[\"Voter ID\"])"
   ]
  },
  {
   "cell_type": "code",
   "execution_count": 6,
   "id": "818ce5e3",
   "metadata": {},
   "outputs": [
    {
     "data": {
      "text/plain": [
       "3521001"
      ]
     },
     "execution_count": 6,
     "metadata": {},
     "output_type": "execute_result"
    }
   ],
   "source": [
    "total_votes"
   ]
  },
  {
   "cell_type": "code",
   "execution_count": 7,
   "id": "154d67a7",
   "metadata": {},
   "outputs": [],
   "source": [
    "#grabbing list of candidates that received votes\n",
    "candidates = election_data[\"Candidate\"].unique()"
   ]
  },
  {
   "cell_type": "code",
   "execution_count": 8,
   "id": "7f9b5898",
   "metadata": {},
   "outputs": [
    {
     "data": {
      "text/plain": [
       "array(['Khan', 'Correy', 'Li', \"O'Tooley\"], dtype=object)"
      ]
     },
     "execution_count": 8,
     "metadata": {},
     "output_type": "execute_result"
    }
   ],
   "source": [
    "candidates"
   ]
  },
  {
   "cell_type": "code",
   "execution_count": 9,
   "id": "cf3fe6a4",
   "metadata": {},
   "outputs": [],
   "source": [
    "#creating a series that contains the candidate with the number of votes received\n",
    "votes_series = election_data[\"Candidate\"].value_counts()"
   ]
  },
  {
   "cell_type": "code",
   "execution_count": 10,
   "id": "620f12d3",
   "metadata": {
    "scrolled": true
   },
   "outputs": [
    {
     "data": {
      "text/plain": [
       "Khan        2218231\n",
       "Correy       704200\n",
       "Li           492940\n",
       "O'Tooley     105630\n",
       "Name: Candidate, dtype: int64"
      ]
     },
     "execution_count": 10,
     "metadata": {},
     "output_type": "execute_result"
    }
   ],
   "source": [
    "votes_series"
   ]
  },
  {
   "cell_type": "code",
   "execution_count": 13,
   "id": "2fced415",
   "metadata": {},
   "outputs": [
    {
     "data": {
      "text/plain": [
       "{'Khan': 2218231, 'Correy': 704200, 'Li': 492940, \"O'Tooley\": 105630}"
      ]
     },
     "execution_count": 13,
     "metadata": {},
     "output_type": "execute_result"
    }
   ],
   "source": [
    "#converting series into a dictionary for easier use\n",
    "vote_numbers = votes_series.to_dict()\n",
    "vote_numbers"
   ]
  },
  {
   "cell_type": "code",
   "execution_count": 16,
   "id": "b64b9df8",
   "metadata": {},
   "outputs": [],
   "source": [
    "#Calculating Candidate vote percentages and formatting to two decimal places\n",
    "khan_percent = \"{:.2f}\".format(vote_numbers[\"Khan\"]/total_votes*100) \n",
    "correy_percent = \"{:.2f}\".format(vote_numbers[\"Correy\"]/total_votes*100) \n",
    "li_percent = \"{:.2f}\".format(vote_numbers[\"Li\"]/total_votes*100) \n",
    "otooley_percent = \"{:.2f}\".format(vote_numbers[\"O'Tooley\"]/total_votes*100)"
   ]
  },
  {
   "cell_type": "code",
   "execution_count": 17,
   "id": "d9b76677",
   "metadata": {},
   "outputs": [],
   "source": [
    "#creating quick function to retreive key using values from dictionary\n",
    "def get_key(val):\n",
    "    for key, value in vote_numbers.items():\n",
    "         if val == value:\n",
    "             return key"
   ]
  },
  {
   "cell_type": "code",
   "execution_count": 19,
   "id": "8d6b7c6b",
   "metadata": {},
   "outputs": [
    {
     "data": {
      "text/plain": [
       "'Khan'"
      ]
     },
     "execution_count": 19,
     "metadata": {},
     "output_type": "execute_result"
    }
   ],
   "source": [
    "#storing winner in variable for later use\n",
    "winner = get_key(max(vote_numbers.values()))\n",
    "winner"
   ]
  },
  {
   "cell_type": "code",
   "execution_count": 20,
   "id": "18d99aa8",
   "metadata": {},
   "outputs": [
    {
     "name": "stdout",
     "output_type": "stream",
     "text": [
      "Election Results\n",
      "-------------------\n",
      "Total Votes:  3521001\n",
      "-------------------\n",
      "Khan: % 63.00 ( 2218231 )\n",
      "Correy: % 20.00 ( 704200 )\n",
      "Li: % 14.00 ( 492940 )\n",
      "O'Tooley: % 3.00 ( 105630 )\n",
      "-------------------\n",
      "Winner:  Khan\n",
      "-------------------\n"
     ]
    }
   ],
   "source": [
    "#Printing Results\n",
    "print(\"Election Results\")\n",
    "print(\"-------------------\")\n",
    "print(\"Total Votes: \", total_votes)\n",
    "print(\"-------------------\")\n",
    "print(\"Khan: %\", khan_percent, \"(\", vote_numbers[\"Khan\"], \")\")\n",
    "print(\"Correy: %\", correy_percent, \"(\", vote_numbers[\"Correy\"], \")\")\n",
    "print(\"Li: %\", li_percent, \"(\", vote_numbers[\"Li\"], \")\")\n",
    "print(\"O'Tooley: %\", otooley_percent, \"(\", vote_numbers[\"O'Tooley\"], \")\")\n",
    "print(\"-------------------\")\n",
    "print(\"Winner: \", winner)\n",
    "print(\"-------------------\")"
   ]
  },
  {
   "cell_type": "code",
   "execution_count": 21,
   "id": "9b15a2b3",
   "metadata": {},
   "outputs": [],
   "source": [
    "#printing output to file\n",
    "with open(\"analysis/output.txt\", \"x\") as f:\n",
    "    print(\"Election Results\", file=f)\n",
    "    print(\"-------------------\", file=f)\n",
    "    print(\"Total Votes: \", total_votes, file=f)\n",
    "    print(\"-------------------\", file=f)\n",
    "    print(\"Khan: %\", khan_percent, \"(\", vote_numbers[\"Khan\"], \")\", file=f)\n",
    "    print(\"Correy: %\", correy_percent, \"(\", vote_numbers[\"Correy\"], \")\", file=f)\n",
    "    print(\"Li: %\", li_percent, \"(\", vote_numbers[\"Li\"], \")\", file=f)\n",
    "    print(\"O'Tooley: %\", otooley_percent, \"(\", vote_numbers[\"O'Tooley\"], \")\", file=f)\n",
    "    print(\"-------------------\", file=f)\n",
    "    print(\"Winner: \", winner, file=f)\n",
    "    print(\"-------------------\", file=f)"
   ]
  },
  {
   "cell_type": "code",
   "execution_count": null,
   "id": "b836c3ce",
   "metadata": {},
   "outputs": [],
   "source": []
  }
 ],
 "metadata": {
  "kernelspec": {
   "display_name": "Python 3 (ipykernel)",
   "language": "python",
   "name": "python3"
  },
  "language_info": {
   "codemirror_mode": {
    "name": "ipython",
    "version": 3
   },
   "file_extension": ".py",
   "mimetype": "text/x-python",
   "name": "python",
   "nbconvert_exporter": "python",
   "pygments_lexer": "ipython3",
   "version": "3.9.7"
  }
 },
 "nbformat": 4,
 "nbformat_minor": 5
}
